{
 "cells": [
  {
   "cell_type": "code",
   "execution_count": 1,
   "metadata": {},
   "outputs": [],
   "source": [
    "## Benchmark between C, C++, and Numpy\n",
    "## Task: computing sum of squares"
   ]
  },
  {
   "cell_type": "code",
   "execution_count": 2,
   "metadata": {},
   "outputs": [],
   "source": [
    "# C code (\"mysum.c\")\n",
    "\n",
    "# long long mysum(int n, int* array) {\n",
    "#     long long res = 0;\n",
    "#     for (int i=0; i<n; i++)\n",
    "#         res += array[i]*array[i];\n",
    "#     return res;\n",
    "# }"
   ]
  },
  {
   "cell_type": "code",
   "execution_count": 3,
   "metadata": {},
   "outputs": [],
   "source": [
    "# C++ code (\"mysum.cpp\")\n",
    "# just add [extern \"C\"] at the top of the code\n",
    "\n",
    "# extern \"C\"\n",
    "\n",
    "# long long mysum(int n, int* array) {\n",
    "#     long long res = 0;\n",
    "#     for (int i=0; i<n; i++)\n",
    "#         res += array[i]*array[i];\n",
    "#     return res;\n",
    "# }"
   ]
  },
  {
   "cell_type": "code",
   "execution_count": 4,
   "metadata": {},
   "outputs": [],
   "source": [
    "# save the following code snippet as setup.py at the working directory and run 'python setup.py build'\n",
    "# to create the shared C/C++ modules\n",
    "\n",
    "# from setuptools import setup, Extension\n",
    "\n",
    "# setup(\n",
    "#     ext_modules=[Extension('mysum_c', ['mysum.c'],),\n",
    "#                  Extension('mysum_cpp', ['mysum.cpp'],),\n",
    "#                  ],\n",
    "#     install_requires=['numpy']\n",
    "# )\n"
   ]
  },
  {
   "cell_type": "code",
   "execution_count": 5,
   "metadata": {},
   "outputs": [],
   "source": [
    "# import libraries\n",
    "\n",
    "import time\n",
    "import numpy as np\n",
    "import os\n",
    "\n",
    "# required to import the C module\n",
    "import ctypes"
   ]
  },
  {
   "cell_type": "code",
   "execution_count": 6,
   "metadata": {},
   "outputs": [],
   "source": [
    "# compiled shared libraries\n",
    "libfile_c = 'mysum_c.cpython-37m-darwin.so'\n",
    "libfile_cpp = 'mysum_cpp.cpython-37m-darwin.so'"
   ]
  },
  {
   "cell_type": "code",
   "execution_count": 7,
   "metadata": {},
   "outputs": [],
   "source": [
    "# import C and C++ modules\n",
    "\n",
    "mylib_c = ctypes.CDLL(libfile_c)\n",
    "\n",
    "mylib_c.mysum.restype = ctypes.c_longlong\n",
    "mylib_c.mysum.argtypes = [ctypes.c_int,\n",
    "                          np.ctypeslib.ndpointer(\n",
    "                            dtype=np.int32\n",
    "                          )]\n",
    "\n",
    "mylib_cpp = ctypes.CDLL(libfile_cpp)\n",
    "\n",
    "mylib_cpp.mysum.restype = ctypes.c_longlong\n",
    "mylib_cpp.mysum.argtypes = [ctypes.c_int,\n",
    "                            np.ctypeslib.ndpointer(\n",
    "                              dtype=np.int32\n",
    "                            )]"
   ]
  },
  {
   "cell_type": "code",
   "execution_count": 8,
   "metadata": {},
   "outputs": [],
   "source": [
    "# data and number of simulations\n",
    "\n",
    "array = np.arange(0, 1000000, 1, np.int32)\n",
    "n_sim = 100"
   ]
  },
  {
   "cell_type": "code",
   "execution_count": 9,
   "metadata": {},
   "outputs": [],
   "source": [
    "# compute execution times\n",
    "start = time.time()\n",
    "for i in range(n_sim):\n",
    "    mylib_c.mysum(len(array), array)\n",
    "end = time.time()\n",
    "t_c = end-start\n",
    "\n",
    "start_time_cpp = time.time()\n",
    "for i in range(n_sim):\n",
    "    mylib_cpp.mysum(len(array), array)\n",
    "end_time_cpp = time.time()\n",
    "t_cpp = end_time_cpp-start_time_cpp\n",
    "\n",
    "start = time.time()\n",
    "for i in range(n_sim):\n",
    "    (array**2).sum()\n",
    "end = time.time()\n",
    "t_numpy = end-start\n",
    "\n",
    "# This is similar\n",
    "start = time.time()\n",
    "for i in range(n_sim):\n",
    "    pow(array, 2).sum()\n",
    "end = time.time()\n",
    "t_numpy_pow = end-start\n",
    "\n",
    "# List comprehension\n",
    "array = np.arange(0, 1000000, 1, np.int32)\n",
    "start = time.time()\n",
    "res = 0\n",
    "for num in array:\n",
    "    res += num**2\n",
    "end = time.time()\n",
    "t_listcomp = end-start\n"
   ]
  },
  {
   "cell_type": "code",
   "execution_count": 10,
   "metadata": {},
   "outputs": [
    {
     "name": "stdout",
     "output_type": "stream",
     "text": [
      "C: 0.04 seconds.\n",
      "C++: 0.04 seconds.\n",
      "Python_Numpy: 0.07 seconds.\n",
      "Python_Numpy_with_pow(): 0.07 seconds.\n",
      "Python_Numpy_ListComp: 2.04 seconds.\n"
     ]
    }
   ],
   "source": [
    "# print results\n",
    "# C and C++ are about the same, and they are about\n",
    "\n",
    "# They are similar\n",
    "print(f'C: {t_c:.2f} seconds.')\n",
    "print(f'C++: {t_cpp:.2f} seconds.')\n",
    "\n",
    "# Slower than C/C++\n",
    "print(f'Python_Numpy: {t_numpy:.2f} seconds.')\n",
    "\n",
    "# about the same as using ** operator\n",
    "print(f'Python_Numpy_with_pow(): {t_numpy_pow:.2f} seconds.')\n",
    "\n",
    "# List comprehension is terribly slow\n",
    "print(f'Python_Numpy_ListComp: {t_listcomp:.2f} seconds.')"
   ]
  },
  {
   "cell_type": "code",
   "execution_count": 11,
   "metadata": {},
   "outputs": [
    {
     "name": "stdout",
     "output_type": "stream",
     "text": [
      "1.74\n",
      "1.88\n"
     ]
    }
   ],
   "source": [
    "# C and C++ are about 1.8 times faster than Numpy\n",
    "\n",
    "print(round(t_numpy/t_c, 2))\n",
    "print(round(t_numpy/t_cpp, 2))"
   ]
  },
  {
   "cell_type": "code",
   "execution_count": null,
   "metadata": {},
   "outputs": [],
   "source": []
  }
 ],
 "metadata": {
  "kernelspec": {
   "display_name": "Python 3.7.3 64-bit",
   "language": "python",
   "name": "python37364bit0f523dc1b52f4c9e823ab01926406148"
  },
  "language_info": {
   "codemirror_mode": {
    "name": "ipython",
    "version": 3
   },
   "file_extension": ".py",
   "mimetype": "text/x-python",
   "name": "python",
   "nbconvert_exporter": "python",
   "pygments_lexer": "ipython3",
   "version": "3.7.3"
  }
 },
 "nbformat": 4,
 "nbformat_minor": 4
}
