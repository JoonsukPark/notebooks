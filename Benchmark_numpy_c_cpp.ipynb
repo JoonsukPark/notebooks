{
 "cells": [
  {
   "cell_type": "code",
   "execution_count": null,
   "metadata": {},
   "outputs": [],
   "source": [
    "## Benchmark between C, C++, and Numpy\n",
    "## Task: computing sum of squares"
   ]
  },
  {
   "cell_type": "code",
   "execution_count": null,
   "metadata": {},
   "outputs": [],
   "source": [
    "# C code (\"mysum.c\")\n",
    "\n",
    "# long long mysum(int n, int* array) {\n",
    "#     long long res = 0;\n",
    "#     for (int i=0; i<n; i++)\n",
    "#         res += array[i]*array[i];\n",
    "#     return res;\n",
    "# }"
   ]
  },
  {
   "cell_type": "code",
   "execution_count": null,
   "metadata": {},
   "outputs": [],
   "source": [
    "# C++ code (\"mysum.cpp\")\n",
    "# just add [extern \"C\"] at the top of the code\n",
    "\n",
    "# extern \"C\"\n",
    "\n",
    "# long long mysum(int n, int* array) {\n",
    "#     long long res = 0;\n",
    "#     for (int i=0; i<n; i++)\n",
    "#         res += array[i]*array[i];\n",
    "#     return res;\n",
    "# }"
   ]
  },
  {
   "cell_type": "code",
   "execution_count": null,
   "metadata": {},
   "outputs": [],
   "source": [
    "import time\n",
    "import numpy as np\n",
    "import os\n",
    "\n",
    "# required to import the C module\n",
    "import ctypes"
   ]
  },
  {
   "cell_type": "code",
   "execution_count": null,
   "metadata": {},
   "outputs": [],
   "source": [
    "# compiled shared libraries\n",
    "libfile_c = 'mysum_c.cpython-37m-darwin.so'\n",
    "libfile_cpp = 'mysum_cpp.cpython-37m-darwin.so'"
   ]
  },
  {
   "cell_type": "code",
   "execution_count": null,
   "metadata": {},
   "outputs": [],
   "source": [
    "# import C and C++ modules\n",
    "\n",
    "mylib_c = ctypes.CDLL(libfile_c)\n",
    "\n",
    "mylib_c.mysum.restype = ctypes.c_longlong\n",
    "mylib_c.mysum.argtypes = [ctypes.c_int,\n",
    "                          np.ctypeslib.ndpointer(\n",
    "                            dtype=np.int32\n",
    "                          )]\n",
    "\n",
    "mylib_cpp = ctypes.CDLL(libfile_cpp)\n",
    "\n",
    "mylib_cpp.mysum.restype = ctypes.c_longlong\n",
    "mylib_cpp.mysum.argtypes = [ctypes.c_int,\n",
    "                            np.ctypeslib.ndpointer(\n",
    "                              dtype=np.int32\n",
    "                            )]\n"
   ]
  },
  {
   "cell_type": "code",
   "execution_count": null,
   "metadata": {},
   "outputs": [],
   "source": [
    "# data and number of simulations\n",
    "\n",
    "array = np.arange(0, 1000000, 1, np.int32)\n",
    "n_sim = 1000\n"
   ]
  },
  {
   "cell_type": "code",
   "execution_count": null,
   "metadata": {},
   "outputs": [],
   "source": [
    "# compute execution times\n",
    "start_time_c = time.time()\n",
    "for i in range(n_sim):\n",
    "    mylib_c.mysum(len(array), array)\n",
    "end_time_c = time.time()\n",
    "t_c = end_time_c-start_time_c\n",
    "\n",
    "start_time_cpp = time.time()\n",
    "for i in range(n_sim):\n",
    "    mylib_cpp.mysum(len(array), array)\n",
    "end_time_cpp = time.time()\n",
    "t_cpp = end_time_cpp-start_time_cpp\n",
    "\n",
    "start_time_p = time.time()\n",
    "for i in range(n_sim):\n",
    "    (array**2).sum()\n",
    "end_time_p = time.time()\n",
    "t_p = end_time_p-start_time_p"
   ]
  },
  {
   "cell_type": "code",
   "execution_count": null,
   "metadata": {},
   "outputs": [],
   "source": [
    "# print results\n",
    "# C and C++ are about the same, and they are about\n",
    "\n",
    "print(f'C: {t_c:.2f} seconds.')\n",
    "print(f'C++: {t_cpp:.2f} seconds.')\n",
    "print(f'Python_Numpy: {t_p:.2f} seconds.')"
   ]
  },
  {
   "cell_type": "code",
   "execution_count": null,
   "metadata": {},
   "outputs": [],
   "source": [
    "# C and C++ are about 2 times faster than Numpy\n",
    "\n",
    "print(t_p/t_c)\n",
    "print(t_p/t_cpp)"
   ]
  },
  {
   "cell_type": "code",
   "execution_count": null,
   "metadata": {},
   "outputs": [],
   "source": []
  }
 ],
 "metadata": {
  "kernelspec": {
   "display_name": "Python 3.7.3 64-bit",
   "language": "python",
   "name": "python37364bit0f523dc1b52f4c9e823ab01926406148"
  },
  "language_info": {
   "codemirror_mode": {
    "name": "ipython",
    "version": 3
   },
   "file_extension": ".py",
   "mimetype": "text/x-python",
   "name": "python",
   "nbconvert_exporter": "python",
   "pygments_lexer": "ipython3",
   "version": "3.7.3"
  }
 },
 "nbformat": 4,
 "nbformat_minor": 4
}
